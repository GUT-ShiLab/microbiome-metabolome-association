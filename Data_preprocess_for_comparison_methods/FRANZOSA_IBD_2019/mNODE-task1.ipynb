{
 "cells": [
  {
   "cell_type": "code",
   "execution_count": null,
   "id": "546496ab",
   "metadata": {},
   "outputs": [],
   "source": [
    "import pandas as pd\n",
    "pd.set_option('display.max_columns', None)\n",
    "# 读取TSV文件并将其转换为DataFrame\n",
    "genera = pd.read_csv('genera_filtered.csv')\n",
    "metadata = pd.read_csv('metadata.tsv', sep='\\t')\n",
    "mtb = pd.read_csv('mtb_filtered.csv')\n",
    "mtb_map = pd.read_csv('mtb.map.tsv', sep='\\t')\n",
    "species = pd.read_csv('species.tsv', sep='\\t')\n",
    "# 显示DataFrame\n",
    "mtb"
   ]
  },
  {
   "cell_type": "code",
   "execution_count": null,
   "id": "b1294808",
   "metadata": {},
   "outputs": [],
   "source": [
    "genera"
   ]
  },
  {
   "cell_type": "code",
   "execution_count": null,
   "id": "e2f76f72",
   "metadata": {},
   "outputs": [],
   "source": [
    "mtb_map"
   ]
  },
  {
   "cell_type": "code",
   "execution_count": null,
   "id": "eecc17fa",
   "metadata": {},
   "outputs": [],
   "source": [
    "# 删除 Compound 列中以 \"NA\" 结尾的行\n",
    "mtb_map_filtered = mtb_map[~mtb_map['Compound'].str.endswith('NA')]"
   ]
  },
  {
   "cell_type": "code",
   "execution_count": null,
   "id": "2417b5b4",
   "metadata": {},
   "outputs": [],
   "source": [
    "mtb_map_filtered"
   ]
  },
  {
   "cell_type": "code",
   "execution_count": null,
   "id": "9e78f690",
   "metadata": {},
   "outputs": [],
   "source": [
    "# 设置第一列样本名称为行索引\n",
    "mtb.set_index(mtb.columns[0], inplace=True)\n",
    "# 设置第一列样本名称为行索引\n",
    "genera.set_index(genera.columns[0], inplace=True)\n",
    "# 分离训练集和测试集\n",
    "training_genera = genera[~genera.index.str.contains('Validation')]\n",
    "testing_genera = genera[genera.index.str.contains('Validation')]\n",
    "\n",
    "training_mtb = mtb[~mtb.index.str.contains('Validation')]\n",
    "testing_mtb = mtb[mtb.index.str.contains('Validation')]"
   ]
  },
  {
   "cell_type": "code",
   "execution_count": null,
   "id": "df6079ef",
   "metadata": {},
   "outputs": [],
   "source": [
    "training_genera"
   ]
  },
  {
   "cell_type": "code",
   "execution_count": null,
   "id": "02fb9bc0",
   "metadata": {},
   "outputs": [],
   "source": [
    "training_genera_transposed = training_genera.transpose()\n",
    "testing_genera_transposed = testing_genera.transpose()\n",
    "\n",
    "training_mtb_transposed = training_mtb.transpose()\n",
    "testing_mtb_transposed = testing_mtb.transpose()\n"
   ]
  },
  {
   "cell_type": "code",
   "execution_count": null,
   "id": "147313ab",
   "metadata": {},
   "outputs": [],
   "source": [
    "# 将 training_genera_zscore 保存为 CSV 文件\n",
    "training_genera_transposed.to_csv('mNODE_data1/microbiome_Train.csv', index=True)\n",
    "\n",
    "# 将 testing_genera_zscore 保存为 CSV 文件\n",
    "testing_genera_transposed.to_csv('mNODE_data1/microbiome_Test.csv', index=True)\n",
    "\n",
    "# 将 training_mtb_zscore 保存为 CSV 文件\n",
    "training_mtb_transposed.to_csv('mNODE_data1/metabolome_Train.csv', index=True)\n",
    "\n",
    "# 将 testing_mtb_zscore 保存为 CSV 文件\n",
    "testing_mtb_transposed.to_csv('mNODE_data1/metabolome_Test.csv', index=True)"
   ]
  },
  {
   "cell_type": "code",
   "execution_count": null,
   "id": "904ce157",
   "metadata": {},
   "outputs": [],
   "source": [
    "mtb_map_filtered.to_csv('mNODE_data1/metabolome_annotation.csv', index=False)"
   ]
  },
  {
   "cell_type": "code",
   "execution_count": null,
   "id": "a748ee27",
   "metadata": {},
   "outputs": [],
   "source": []
  }
 ],
 "metadata": {
  "kernelspec": {
   "display_name": "Python 3 (ipykernel)",
   "language": "python",
   "name": "python3"
  },
  "language_info": {
   "codemirror_mode": {
    "name": "ipython",
    "version": 3
   },
   "file_extension": ".py",
   "mimetype": "text/x-python",
   "name": "python",
   "nbconvert_exporter": "python",
   "pygments_lexer": "ipython3",
   "version": "3.12.4"
  }
 },
 "nbformat": 4,
 "nbformat_minor": 5
}
